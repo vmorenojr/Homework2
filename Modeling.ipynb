{
  "cells": [
    {
      "metadata": {},
      "cell_type": "markdown",
      "source": " ### Introduction to Data Science - 2019.2\n\n ### Valter Moreno"
    },
    {
      "metadata": {},
      "cell_type": "markdown",
      "source": " ### Homework 2: Predicting Schools Performance"
    },
    {
      "metadata": {},
      "cell_type": "markdown",
      "source": " ### Data"
    },
    {
      "metadata": {},
      "cell_type": "markdown",
      "source": " The data for this project was provided in four csv files containing information on shools in São Paulo metropolitan region.\n They were cleaned, transformed and saved in the Schools.csv file."
    },
    {
      "metadata": {
        "trusted": true
      },
      "cell_type": "code",
      "source": "import numpy as np\nimport pandas as pd\nimport seaborn as sns\n\nfrom sklearn import tree\nfrom sklearn.tree import DecisionTreeClassifier\nfrom sklearn.ensemble import BaggingClassifier\nfrom sklearn.ensemble import RandomForestClassifier\nfrom sklearn.ensemble import AdaBoostClassifier\nfrom sklearn.ensemble import GradientBoostingClassifier\nfrom sklearn.model_selection import validation_curve\nfrom sklearn.model_selection import cross_val_score\nfrom sklearn.model_selection import GridSearchCV\nfrom sklearn.model_selection import KFold\nfrom sklearn.model_selection import train_test_split\nfrom sklearn.metrics import confusion_matrix\n\npd.set_option('display.float_format', lambda x: '%.2f' % x)\nsns.set(style=\"darkgrid\")\n",
      "execution_count": 34,
      "outputs": []
    },
    {
      "metadata": {
        "trusted": true
      },
      "cell_type": "code",
      "source": "# Reading the data into a dataframe\n\nschools = pd.read_csv('Data/Schools.csv', encoding='utf-8')\nschools.head()\n",
      "execution_count": 35,
      "outputs": [
        {
          "output_type": "execute_result",
          "execution_count": 35,
          "data": {
            "text/plain": "   CD_ESCOLA  PARTICIPANTES  ENEM   CODMUN    CODDIST  LAB_INF  QD_ESP_C  \\\n0   35054082             51     1  3550308  355030871        1         1   \n1   35060574             34     2  3550308  355030880        1         1   \n2   35070178            135     2  3550308  355030870        1         1   \n3   35071936             47     2  3550308  355030863        1         1   \n4   35100031             34     2  3550308  355030863        1         1   \n\n   QD_ESP_D  BIBLIO  REG_IN_CR        ...          CLFUNDII_2015  \\\n0         1       0          0        ...                   9.00   \n1         1       1          0        ...                   6.00   \n2         1       0          0        ...                   7.00   \n3         1       0          1        ...                  13.00   \n4         1       0          1        ...                  13.00   \n\n   CLFUNDI_2012  CLFUND_2012  CLFUND_2013  CLFUND_2014  CLFUND_2015  \\\n0          6.00        22.00        18.00        16.00        15.00   \n1          8.00        15.00        16.00        14.00        14.00   \n2          8.00        21.00        20.00        18.00        17.00   \n3         18.00        31.00        34.00        34.00        35.00   \n4         15.00        28.00        30.00        29.00        29.00   \n\n   TOTAL_ALUNOS_2012  TOTAL_ALUNOS_2013  TOTAL_ALUNOS_2014  TOTAL_ALUNOS_2015  \n0            1171.00            1077.00            1061.00            1205.00  \n1             434.00             405.00             442.00             435.00  \n2            2051.00            1955.00            1887.00            1667.00  \n3             954.00             916.00             938.00             890.00  \n4             900.00             943.00             993.00             960.00  \n\n[5 rows x 150 columns]",
            "text/html": "<div>\n<style scoped>\n    .dataframe tbody tr th:only-of-type {\n        vertical-align: middle;\n    }\n\n    .dataframe tbody tr th {\n        vertical-align: top;\n    }\n\n    .dataframe thead th {\n        text-align: right;\n    }\n</style>\n<table border=\"1\" class=\"dataframe\">\n  <thead>\n    <tr style=\"text-align: right;\">\n      <th></th>\n      <th>CD_ESCOLA</th>\n      <th>PARTICIPANTES</th>\n      <th>ENEM</th>\n      <th>CODMUN</th>\n      <th>CODDIST</th>\n      <th>LAB_INF</th>\n      <th>QD_ESP_C</th>\n      <th>QD_ESP_D</th>\n      <th>BIBLIO</th>\n      <th>REG_IN_CR</th>\n      <th>...</th>\n      <th>CLFUNDII_2015</th>\n      <th>CLFUNDI_2012</th>\n      <th>CLFUND_2012</th>\n      <th>CLFUND_2013</th>\n      <th>CLFUND_2014</th>\n      <th>CLFUND_2015</th>\n      <th>TOTAL_ALUNOS_2012</th>\n      <th>TOTAL_ALUNOS_2013</th>\n      <th>TOTAL_ALUNOS_2014</th>\n      <th>TOTAL_ALUNOS_2015</th>\n    </tr>\n  </thead>\n  <tbody>\n    <tr>\n      <th>0</th>\n      <td>35054082</td>\n      <td>51</td>\n      <td>1</td>\n      <td>3550308</td>\n      <td>355030871</td>\n      <td>1</td>\n      <td>1</td>\n      <td>1</td>\n      <td>0</td>\n      <td>0</td>\n      <td>...</td>\n      <td>9.00</td>\n      <td>6.00</td>\n      <td>22.00</td>\n      <td>18.00</td>\n      <td>16.00</td>\n      <td>15.00</td>\n      <td>1171.00</td>\n      <td>1077.00</td>\n      <td>1061.00</td>\n      <td>1205.00</td>\n    </tr>\n    <tr>\n      <th>1</th>\n      <td>35060574</td>\n      <td>34</td>\n      <td>2</td>\n      <td>3550308</td>\n      <td>355030880</td>\n      <td>1</td>\n      <td>1</td>\n      <td>1</td>\n      <td>1</td>\n      <td>0</td>\n      <td>...</td>\n      <td>6.00</td>\n      <td>8.00</td>\n      <td>15.00</td>\n      <td>16.00</td>\n      <td>14.00</td>\n      <td>14.00</td>\n      <td>434.00</td>\n      <td>405.00</td>\n      <td>442.00</td>\n      <td>435.00</td>\n    </tr>\n    <tr>\n      <th>2</th>\n      <td>35070178</td>\n      <td>135</td>\n      <td>2</td>\n      <td>3550308</td>\n      <td>355030870</td>\n      <td>1</td>\n      <td>1</td>\n      <td>1</td>\n      <td>0</td>\n      <td>0</td>\n      <td>...</td>\n      <td>7.00</td>\n      <td>8.00</td>\n      <td>21.00</td>\n      <td>20.00</td>\n      <td>18.00</td>\n      <td>17.00</td>\n      <td>2051.00</td>\n      <td>1955.00</td>\n      <td>1887.00</td>\n      <td>1667.00</td>\n    </tr>\n    <tr>\n      <th>3</th>\n      <td>35071936</td>\n      <td>47</td>\n      <td>2</td>\n      <td>3550308</td>\n      <td>355030863</td>\n      <td>1</td>\n      <td>1</td>\n      <td>1</td>\n      <td>0</td>\n      <td>1</td>\n      <td>...</td>\n      <td>13.00</td>\n      <td>18.00</td>\n      <td>31.00</td>\n      <td>34.00</td>\n      <td>34.00</td>\n      <td>35.00</td>\n      <td>954.00</td>\n      <td>916.00</td>\n      <td>938.00</td>\n      <td>890.00</td>\n    </tr>\n    <tr>\n      <th>4</th>\n      <td>35100031</td>\n      <td>34</td>\n      <td>2</td>\n      <td>3550308</td>\n      <td>355030863</td>\n      <td>1</td>\n      <td>1</td>\n      <td>1</td>\n      <td>0</td>\n      <td>1</td>\n      <td>...</td>\n      <td>13.00</td>\n      <td>15.00</td>\n      <td>28.00</td>\n      <td>30.00</td>\n      <td>29.00</td>\n      <td>29.00</td>\n      <td>900.00</td>\n      <td>943.00</td>\n      <td>993.00</td>\n      <td>960.00</td>\n    </tr>\n  </tbody>\n</table>\n<p>5 rows × 150 columns</p>\n</div>"
          },
          "metadata": {}
        }
      ]
    },
    {
      "metadata": {},
      "cell_type": "markdown",
      "source": " As Scikit Learn expects continuous predictors, I will convert\n the INSE_CL to a set of dummy variables."
    },
    {
      "metadata": {
        "trusted": true
      },
      "cell_type": "code",
      "source": "dummies = pd.get_dummies(schools.INSE_CL, prefix='INSE_CL')\n\nschools.drop(['CD_ESCOLA', 'INSE_CL'], axis=1, inplace=True)\nschools = schools.merge(dummies, left_index=True, right_index=True)\n",
      "execution_count": 36,
      "outputs": []
    },
    {
      "metadata": {
        "trusted": true
      },
      "cell_type": "code",
      "source": "# Splitting the data into training and testing datasets\n\ntrain, test = train_test_split(schools, test_size=0.2)\n\nX = train.drop('ENEM', axis=1)\ny = train.ENEM\n\nXtest = test.drop('ENEM', axis=1)\nytest = test.ENEM\n",
      "execution_count": 37,
      "outputs": []
    },
    {
      "metadata": {},
      "cell_type": "markdown",
      "source": " I will test several decision tree options to predict the classifiction\n of a school in ENEM 2015. All features in the 'sxhools' dataframe\n will be used as predictors.\n\n I will use cross-folding with 5 splits to train and test the model."
    },
    {
      "metadata": {},
      "cell_type": "markdown",
      "source": "### Single decision tree"
    },
    {
      "metadata": {
        "trusted": true
      },
      "cell_type": "code",
      "source": "crossvalidation = KFold(n_splits=5, \n                        shuffle=True,\n                        random_state=1)\n\nfor depth in range(1,10):\n    tree_classifier = tree.DecisionTreeClassifier(\n        max_depth=depth, random_state=0)\n    if tree_classifier.fit(X,y).tree_.max_depth < depth:\n        break\n    score = np.mean(cross_val_score(tree_classifier, \n                                    X, y, \n                                    scoring='accuracy', \n                                    cv=crossvalidation))\n    print('Depth: %i Accuracy: %.3f' % (depth,score))\n    ",
      "execution_count": 38,
      "outputs": [
        {
          "output_type": "stream",
          "text": "Depth: 1 Accuracy: 0.750\nDepth: 2 Accuracy: 0.761\nDepth: 3 Accuracy: 0.782\nDepth: 4 Accuracy: 0.776\nDepth: 5 Accuracy: 0.773\nDepth: 6 Accuracy: 0.756\nDepth: 7 Accuracy: 0.756\nDepth: 8 Accuracy: 0.767\nDepth: 9 Accuracy: 0.744\n",
          "name": "stdout"
        }
      ]
    },
    {
      "metadata": {},
      "cell_type": "markdown",
      "source": " To get an effective reduction and simplifiction,\n I will set the min_samples_split to 30 and avoid terminal leaves\n that are too small by setting min_samples_leaf to 10."
    },
    {
      "metadata": {
        "trusted": true
      },
      "cell_type": "code",
      "source": "tree_classifier = tree.DecisionTreeClassifier(\n    min_samples_split=30, \n    min_samples_leaf=10, \n    random_state=0)\ntree_classifier.fit(X,y)\nscore = np.mean(cross_val_score(tree_classifier, X, y, \n                                scoring='accuracy', \n                                cv=crossvalidation))\nprint('Accuracy: %.3f' % score)\n",
      "execution_count": 39,
      "outputs": [
        {
          "output_type": "stream",
          "text": "Accuracy: 0.790\n",
          "name": "stdout"
        }
      ]
    },
    {
      "metadata": {},
      "cell_type": "markdown",
      "source": " I will predict the values in the test dataset now."
    },
    {
      "metadata": {
        "trusted": true
      },
      "cell_type": "code",
      "source": "tree_accuracy = tree_classifier.score(Xtest, ytest)\n\nprint('Accuracy on test data: %.3f' % tree_accuracy)\nprint('Confusion matrix:')\nprint(confusion_matrix(ytest, tree_classifier.predict(Xtest)))\n    ",
      "execution_count": 40,
      "outputs": [
        {
          "output_type": "stream",
          "text": "Accuracy on test data: 0.724\nConfusion matrix:\n[[ 0  4  0  0]\n [ 0 57  2  1]\n [ 0 14  1  1]\n [ 0  1  1  5]]\n",
          "name": "stdout"
        }
      ]
    },
    {
      "metadata": {},
      "cell_type": "markdown",
      "source": "### Bagging\n\nI will start the analyisis using an arbitrary parameter configuration."
    },
    {
      "metadata": {
        "trusted": true
      },
      "cell_type": "code",
      "source": "tree_classifier = DecisionTreeClassifier(random_state=0)\nbagging = BaggingClassifier(tree_classifier, \n                            max_samples=0.7, \n                            max_features=0.7, \n                            n_estimators=300)\nscores = np.mean(cross_val_score(bagging, X, y, \n                                 scoring='accuracy', \n                                 cv=crossvalidation))\nprint ('Accuracy: %.3f' % scores)\n",
      "execution_count": 41,
      "outputs": [
        {
          "output_type": "stream",
          "text": "Accuracy: 0.816\n",
          "name": "stdout"
        }
      ]
    },
    {
      "metadata": {},
      "cell_type": "markdown",
      "source": "I will vary the number of models in the tree to identify the\nthe optimum value."
    },
    {
      "metadata": {
        "trusted": true
      },
      "cell_type": "code",
      "source": "param_range = [10, 50, 100, 200, 300, 500, 800, 1000, 1200, 1500, 1800]\ntrain_scores, test_scores = validation_curve(bagging, X, y,\n                                  'n_estimators', \n                                  param_range=param_range, \n                                  cv=crossvalidation, \n                                  scoring='accuracy')\nmean_test_scores = np.mean(test_scores, axis=1)\n\ng = sns.relplot(x='Models', y='Accuracy',\n                kind=\"line\",\n                data=pd.DataFrame({'Models': param_range,\n                                   'Accuracy': mean_test_scores}))\ng.fig.autofmt_xdate()\n",
      "execution_count": 42,
      "outputs": [
        {
          "output_type": "display_data",
          "data": {
            "image/png": "[encoded data removed]",
            "text/plain": "<Figure size 360x360 with 1 Axes>"
          },
          "metadata": {}
        }
      ]
    },
    {
      "metadata": {},
      "cell_type": "markdown",
      "source": " Next, I will search for a better combination of hyperparameters to\n try to increase the accuracy of the model."
    },
    {
      "metadata": {
        "trusted": true
      },
      "cell_type": "code",
      "source": "search_grid = {'n_estimators':[50, 500, 1000, 1500],\n               'max_samples':[0.6, 0.7, 0.8],\n               'max_features':[0.6, 0.7, 0.8]}\n\nsearch_func = GridSearchCV(estimator=bagging,\n                           param_grid=search_grid,\n                           scoring='accuracy',\n                           cv=crossvalidation)\nsearch_func.fit(X, y)\nbest_params = search_func.best_params_\nbest_score = search_func.best_score_\nprint('Best parameters: %s' % best_params)\nprint('Best accuracy: %.3f' % best_score)\n",
      "execution_count": null,
      "outputs": []
    },
    {
      "metadata": {},
      "cell_type": "markdown",
      "source": " I will predict the values in the test dataset using the optimum\n parameters combination."
    },
    {
      "metadata": {
        "trusted": true
      },
      "cell_type": "code",
      "source": "tree_classifier = DecisionTreeClassifier(random_state=0)\nbagging = BaggingClassifier(tree_classifier, \n                            max_samples=best_params['max_samples'], \n                            max_features=best_params['max_features'], \n                            n_estimators=best_params['n_estimators'])\nbagging = bagging.fit(X,y)\nbagging_accuracy = bagging.score(Xtest, ytest)\n\nprint('Accuracy on test data: %.3f' % bagging_accuracy)\nprint('Confusion matrix:')\nprint(confusion_matrix(ytest, bagging.predict(Xtest)))\n    ",
      "execution_count": null,
      "outputs": []
    },
    {
      "metadata": {},
      "cell_type": "markdown",
      "source": "### Random Forest\n\nAgain, I will start with an arbitrary parameters configuration."
    },
    {
      "metadata": {
        "trusted": true
      },
      "cell_type": "code",
      "source": "RF_cls = RandomForestClassifier(n_estimators=300,\n                                random_state=1)\nscore = np.mean(cross_val_score(RF_cls, X, y, \n                                scoring='accuracy', \n                                cv=crossvalidation))\nprint('Accuracy: %.3f' % score) \n",
      "execution_count": null,
      "outputs": []
    },
    {
      "metadata": {},
      "cell_type": "markdown",
      "source": " I will repeat the analysis varying the number of models."
    },
    {
      "metadata": {
        "trusted": true
      },
      "cell_type": "code",
      "source": "train_scores, test_scores = validation_curve(RF_cls, X, y,\n                                             'n_estimators',\n                                             param_range=param_range,\n                                             cv=crossvalidation, \n                                             scoring='accuracy')\nmean_test_scores = np.mean(test_scores, axis=1)\n\ng = sns.relplot(x='Models', y='Accuracy',\n                kind=\"line\",\n                data=pd.DataFrame({'Models': param_range,\n                                   'Accuracy': mean_test_scores}))\ng.fig.autofmt_xdate()\n",
      "execution_count": null,
      "outputs": []
    },
    {
      "metadata": {},
      "cell_type": "markdown",
      "source": " Next, I will search for a better combination of hyperparameters to\n try to increase the accuracy of the model."
    },
    {
      "metadata": {
        "trusted": true
      },
      "cell_type": "code",
      "source": "search_grid = {'n_estimators':[50, 100, 300],\n               'max_features': [X.shape[1]//3, 'sqrt', 'log2', 'auto'], \n               'min_samples_leaf': [1, 10, 30]}\n\nsearch_func = GridSearchCV(estimator=RF_cls,\n                           param_grid=search_grid,\n                           scoring='accuracy',\n                           cv=crossvalidation)\nsearch_func.fit(X, y)\nbest_params = search_func.best_params_\nbest_score = search_func.best_score_\nprint('Best parameters: %s' % best_params)\nprint('Best accuracy: %.3f' % best_score)\n",
      "execution_count": null,
      "outputs": []
    },
    {
      "metadata": {},
      "cell_type": "markdown",
      "source": " I will use the best combination of parameters to predict\n the ENEM classification for schools in the test dataset."
    },
    {
      "metadata": {
        "trusted": true
      },
      "cell_type": "code",
      "source": "RF_cls = RandomForestClassifier(max_features=best_params['max_features'],\n                                min_samples_leaf=best_params['min_samples_leaf'],\n                                n_estimators=best_params['n_estimators'],\n                                random_state=1)\nRF_cls = RF_cls.fit(X,y)\nrf_accuracy = RF_cls.score(Xtest, ytest)\n\nprint('Accuracy on test data: %.3f' % rf_accuracy)\nprint('Confusion matrix:')\nprint(confusion_matrix(ytest, RF_cls.predict(Xtest)))\n    ",
      "execution_count": null,
      "outputs": []
    },
    {
      "metadata": {},
      "cell_type": "markdown",
      "source": "### Boosting\n In this last step, I will use two boosting applications, adaboost\n and gradient boosting machines, to predict a school's classification\n in ENEM 2015."
    },
    {
      "metadata": {},
      "cell_type": "markdown",
      "source": "#### Adaboost\n First, I will train a model with a basic arbitrary parameter\n configuration."
    },
    {
      "metadata": {
        "trusted": true
      },
      "cell_type": "code",
      "source": "ada = AdaBoostClassifier(n_estimators=1000, \n                         learning_rate=0.01, \n                         base_estimator=DecisionTreeClassifier(max_depth=1),\n                         random_state=1)\ncrossvalidation = KFold(n_splits=5, shuffle=True, \n                        random_state=1)\nscore = np.mean(cross_val_score(ada, X, y, \n                                scoring='accuracy', \n                                cv=crossvalidation))\nprint('Accuracy: %.3f' % score)\n",
      "execution_count": null,
      "outputs": []
    },
    {
      "metadata": {},
      "cell_type": "markdown",
      "source": " To try to improve the accuracy of the model, I will\n explore variations in the number of estimators."
    },
    {
      "metadata": {
        "trusted": true
      },
      "cell_type": "code",
      "source": "param_range = [100, 500, 1000, 1250, 1500, 2000, 2500]\ntrain_scores, test_scores = validation_curve(ada, X, y,\n                                             'n_estimators',\n                                             param_range=param_range,\n                                             cv=crossvalidation, \n                                             scoring='accuracy')\nmean_test_scores = np.mean(test_scores, axis=1)\n\ng = sns.relplot(x='Models', y='Accuracy',\n                kind=\"line\",\n                data=pd.DataFrame({'Models': param_range,\n                                   'Accuracy': mean_test_scores}))\ng.fig.autofmt_xdate()\n",
      "execution_count": null,
      "outputs": []
    },
    {
      "metadata": {},
      "cell_type": "markdown",
      "source": " I will search for a better combination of number of estimators\n and learning rate to further increase the accuracy of\n the model."
    },
    {
      "metadata": {
        "trusted": true
      },
      "cell_type": "code",
      "source": "search_grid = {'n_estimators': [1000, 1500, 1800, 2000, 2500],\n               'learning_rate': [0.01, 0.02, 0.03]}\n\nsearch_func = GridSearchCV(estimator=ada,\n                           param_grid=search_grid,\n                           scoring='accuracy',\n                           cv=crossvalidation)\nsearch_func.fit(X, y)\nbest_params = search_func.best_params_\nbest_score = search_func.best_score_\nprint('Best parameters: %s' % best_params)\nprint('Best accuracy: %.3f' % best_score)\n",
      "execution_count": null,
      "outputs": []
    },
    {
      "metadata": {},
      "cell_type": "markdown",
      "source": " The best combination of parameters will be used to predict\n the values of ENEM classification in the test dataset."
    },
    {
      "metadata": {
        "trusted": true
      },
      "cell_type": "code",
      "source": "ada = AdaBoostClassifier(n_estimators=best_params['n_estimators'], \n                         learning_rate=best_params['learning_rate'], \n                         base_estimator=DecisionTreeClassifier(max_depth=1),\n                         random_state=1)\nada = ada.fit(X,y)\nada_accuracy = ada.score(Xtest, ytest)\n\nprint('Accuracy on test data: %.3f' % ada_accuracy)\nprint('Confusion matrix:')\nprint(confusion_matrix(ytest, ada.predict(Xtest)))\n",
      "execution_count": null,
      "outputs": []
    },
    {
      "metadata": {},
      "cell_type": "markdown",
      "source": "#### Gradient Boosting Classifier\n Next, I will fit a gradient boosting classifier with an initial\n parameter setting."
    },
    {
      "metadata": {
        "trusted": true
      },
      "cell_type": "code",
      "source": "crossvalidation = KFold(n_splits=5, \n                        shuffle=True, \n                        random_state=1)\n\nGBC = GradientBoostingClassifier(n_estimators=300, \n                                 subsample=1.0, \n                                 max_depth=3, \n                                 learning_rate=0.1, \n                                 random_state=1)\nscore = np.mean(cross_val_score(GBC, X, y, \n                                scoring='accuracy', \n                                cv=crossvalidation))\nprint('Accuracy: %.3f' % score)\n",
      "execution_count": null,
      "outputs": []
    },
    {
      "metadata": {},
      "cell_type": "markdown",
      "source": " I will explore combinations of the parameters of the model to\n try to improve its accuracy."
    },
    {
      "metadata": {
        "trusted": true
      },
      "cell_type": "code",
      "source": "search_grid =  {'subsample': [1.0, 0.9], \n                'max_depth': [2, 3, 5], \n                'n_estimators': [250, 500 , 1000, 1500],\n                'learning_rate': [0.1, 0.2, 0.3],}\nsearch_func = GridSearchCV(estimator=GBC,\n                           param_grid=search_grid,\n                           scoring='accuracy',\n                           cv=crossvalidation)\nsearch_func.fit(X,y)\n\nbest_params = search_func.best_params_\nbest_score = abs(search_func.best_score_)\nprint('Best parameters: %s' % best_params)\nprint('Best mean squared error: %.3f' % best_score)\n",
      "execution_count": null,
      "outputs": []
    },
    {
      "metadata": {},
      "cell_type": "markdown",
      "source": " The best combination of parameters will be used to predict the\n classification in ENEM for the schools in the test dataset."
    },
    {
      "metadata": {
        "trusted": true
      },
      "cell_type": "code",
      "source": "GBC = GradientBoostingClassifier(n_estimators=best_params['n_estimators'], \n                                 subsample=best_params['subsample'], \n                                 max_depth=best_params['max_depth'], \n                                 learning_rate=best_params['learning_rate'], \n                                 random_state=1)\nGBC = GBC.fit(X,y)\ngb_accuracy = GBC.score(Xtest, ytest)\n\nprint('Accuracy on test data: %.3f' % gb_accuracy)\nprint('Confusion matrix:')\nprint(confusion_matrix(ytest, GBC.predict(Xtest)))\n",
      "execution_count": null,
      "outputs": []
    },
    {
      "metadata": {},
      "cell_type": "markdown",
      "source": "## Conclusion\n Here are the accuracy for each of the models previously fitted to\n the test data:"
    },
    {
      "metadata": {
        "trusted": true
      },
      "cell_type": "code",
      "source": "print('Decision tree:     %.3f' % tree_accuracy)\nprint('Bagging:           %.3f' % bagging_accuracy)\nprint('Random forest:     %.3f' % rf_accuracy)\nprint('Adaboost:          %.3f' % ada_accuracy)\nprint('Gradient boosting: %.3f' % tree_accuracy)",
      "execution_count": null,
      "outputs": []
    }
  ],
  "metadata": {
    "language_info": {
      "name": "python",
      "codemirror_mode": {
        "name": "ipython",
        "version": 3
      }
    },
    "file_extension": ".py",
    "mimetype": "text/x-python",
    "name": "python",
    "npconvert_exporter": "python",
    "pygments_lexer": "ipython3",
    "version": 3,
    "kernelspec": {
      "name": "python2",
      "display_name": "Python 2",
      "language": "python"
    }
  },
  "nbformat": 4,
  "nbformat_minor": 1
}