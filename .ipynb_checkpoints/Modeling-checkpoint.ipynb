{
 "cells": [
  {
   "cell_type": "markdown",
   "metadata": {},
   "source": [
    " ### Introduction to Data Science - 2019.2\n",
    "\n",
    " ### Valter Moreno"
   ]
  },
  {
   "cell_type": "markdown",
   "metadata": {},
   "source": [
    " ### Homework 2: Predicting Schools Performance"
   ]
  },
  {
   "cell_type": "markdown",
   "metadata": {},
   "source": [
    " ### Data"
   ]
  },
  {
   "cell_type": "markdown",
   "metadata": {},
   "source": [
    " The data for this project was provided in four csv files containing information on shools in São Paulo metropolitan region.\n",
    " They were cleaned, transformed and saved in the Schools.csv file."
   ]
  },
  {
   "cell_type": "code",
   "execution_count": 1,
   "metadata": {},
   "outputs": [],
   "source": [
    "import numpy as np\n",
    "import pandas as pd\n",
    "import seaborn as sns\n",
    "\n",
    "from sklearn import tree\n",
    "from sklearn.tree import DecisionTreeClassifier\n",
    "from sklearn.ensemble import BaggingClassifier\n",
    "from sklearn.ensemble import RandomForestClassifier\n",
    "from sklearn.ensemble import AdaBoostClassifier\n",
    "from sklearn.ensemble import GradientBoostingClassifier\n",
    "from sklearn.model_selection import validation_curve\n",
    "from sklearn.model_selection import cross_val_score\n",
    "from sklearn.model_selection import GridSearchCV\n",
    "from sklearn.model_selection import KFold\n",
    "from sklearn.model_selection import train_test_split\n",
    "from sklearn.metrics import confusion_matrix\n",
    "\n",
    "pd.set_option('display.float_format', lambda x: '%.2f' % x)\n",
    "sns.set(style=\"darkgrid\")\n"
   ]
  },
  {
   "cell_type": "code",
   "execution_count": 2,
   "metadata": {},
   "outputs": [
    {
     "data": {
      "text/html": [
       "<div>\n",
       "<style scoped>\n",
       "    .dataframe tbody tr th:only-of-type {\n",
       "        vertical-align: middle;\n",
       "    }\n",
       "\n",
       "    .dataframe tbody tr th {\n",
       "        vertical-align: top;\n",
       "    }\n",
       "\n",
       "    .dataframe thead th {\n",
       "        text-align: right;\n",
       "    }\n",
       "</style>\n",
       "<table border=\"1\" class=\"dataframe\">\n",
       "  <thead>\n",
       "    <tr style=\"text-align: right;\">\n",
       "      <th></th>\n",
       "      <th>CD_ESCOLA</th>\n",
       "      <th>PARTICIPANTES</th>\n",
       "      <th>ENEM</th>\n",
       "      <th>CODMUN</th>\n",
       "      <th>CODDIST</th>\n",
       "      <th>LAB_INF</th>\n",
       "      <th>QD_ESP_C</th>\n",
       "      <th>QD_ESP_D</th>\n",
       "      <th>BIBLIO</th>\n",
       "      <th>REG_IN_CR</th>\n",
       "      <th>...</th>\n",
       "      <th>CLFUNDII_2015</th>\n",
       "      <th>CLFUNDI_2012</th>\n",
       "      <th>CLFUND_2012</th>\n",
       "      <th>CLFUND_2013</th>\n",
       "      <th>CLFUND_2014</th>\n",
       "      <th>CLFUND_2015</th>\n",
       "      <th>TOTAL_ALUNOS_2012</th>\n",
       "      <th>TOTAL_ALUNOS_2013</th>\n",
       "      <th>TOTAL_ALUNOS_2014</th>\n",
       "      <th>TOTAL_ALUNOS_2015</th>\n",
       "    </tr>\n",
       "  </thead>\n",
       "  <tbody>\n",
       "    <tr>\n",
       "      <th>0</th>\n",
       "      <td>35054082</td>\n",
       "      <td>51</td>\n",
       "      <td>1</td>\n",
       "      <td>3550308</td>\n",
       "      <td>355030871</td>\n",
       "      <td>1</td>\n",
       "      <td>1</td>\n",
       "      <td>1</td>\n",
       "      <td>0</td>\n",
       "      <td>0</td>\n",
       "      <td>...</td>\n",
       "      <td>9.00</td>\n",
       "      <td>6.00</td>\n",
       "      <td>22.00</td>\n",
       "      <td>18.00</td>\n",
       "      <td>16.00</td>\n",
       "      <td>15.00</td>\n",
       "      <td>1171.00</td>\n",
       "      <td>1077.00</td>\n",
       "      <td>1061.00</td>\n",
       "      <td>1205.00</td>\n",
       "    </tr>\n",
       "    <tr>\n",
       "      <th>1</th>\n",
       "      <td>35060574</td>\n",
       "      <td>34</td>\n",
       "      <td>2</td>\n",
       "      <td>3550308</td>\n",
       "      <td>355030880</td>\n",
       "      <td>1</td>\n",
       "      <td>1</td>\n",
       "      <td>1</td>\n",
       "      <td>1</td>\n",
       "      <td>0</td>\n",
       "      <td>...</td>\n",
       "      <td>6.00</td>\n",
       "      <td>8.00</td>\n",
       "      <td>15.00</td>\n",
       "      <td>16.00</td>\n",
       "      <td>14.00</td>\n",
       "      <td>14.00</td>\n",
       "      <td>434.00</td>\n",
       "      <td>405.00</td>\n",
       "      <td>442.00</td>\n",
       "      <td>435.00</td>\n",
       "    </tr>\n",
       "    <tr>\n",
       "      <th>2</th>\n",
       "      <td>35070178</td>\n",
       "      <td>135</td>\n",
       "      <td>2</td>\n",
       "      <td>3550308</td>\n",
       "      <td>355030870</td>\n",
       "      <td>1</td>\n",
       "      <td>1</td>\n",
       "      <td>1</td>\n",
       "      <td>0</td>\n",
       "      <td>0</td>\n",
       "      <td>...</td>\n",
       "      <td>7.00</td>\n",
       "      <td>8.00</td>\n",
       "      <td>21.00</td>\n",
       "      <td>20.00</td>\n",
       "      <td>18.00</td>\n",
       "      <td>17.00</td>\n",
       "      <td>2051.00</td>\n",
       "      <td>1955.00</td>\n",
       "      <td>1887.00</td>\n",
       "      <td>1667.00</td>\n",
       "    </tr>\n",
       "    <tr>\n",
       "      <th>3</th>\n",
       "      <td>35071936</td>\n",
       "      <td>47</td>\n",
       "      <td>2</td>\n",
       "      <td>3550308</td>\n",
       "      <td>355030863</td>\n",
       "      <td>1</td>\n",
       "      <td>1</td>\n",
       "      <td>1</td>\n",
       "      <td>0</td>\n",
       "      <td>1</td>\n",
       "      <td>...</td>\n",
       "      <td>13.00</td>\n",
       "      <td>18.00</td>\n",
       "      <td>31.00</td>\n",
       "      <td>34.00</td>\n",
       "      <td>34.00</td>\n",
       "      <td>35.00</td>\n",
       "      <td>954.00</td>\n",
       "      <td>916.00</td>\n",
       "      <td>938.00</td>\n",
       "      <td>890.00</td>\n",
       "    </tr>\n",
       "    <tr>\n",
       "      <th>4</th>\n",
       "      <td>35100031</td>\n",
       "      <td>34</td>\n",
       "      <td>2</td>\n",
       "      <td>3550308</td>\n",
       "      <td>355030863</td>\n",
       "      <td>1</td>\n",
       "      <td>1</td>\n",
       "      <td>1</td>\n",
       "      <td>0</td>\n",
       "      <td>1</td>\n",
       "      <td>...</td>\n",
       "      <td>13.00</td>\n",
       "      <td>15.00</td>\n",
       "      <td>28.00</td>\n",
       "      <td>30.00</td>\n",
       "      <td>29.00</td>\n",
       "      <td>29.00</td>\n",
       "      <td>900.00</td>\n",
       "      <td>943.00</td>\n",
       "      <td>993.00</td>\n",
       "      <td>960.00</td>\n",
       "    </tr>\n",
       "  </tbody>\n",
       "</table>\n",
       "<p>5 rows × 150 columns</p>\n",
       "</div>"
      ],
      "text/plain": [
       "   CD_ESCOLA  PARTICIPANTES  ENEM   CODMUN    CODDIST  LAB_INF  QD_ESP_C  \\\n",
       "0   35054082             51     1  3550308  355030871        1         1   \n",
       "1   35060574             34     2  3550308  355030880        1         1   \n",
       "2   35070178            135     2  3550308  355030870        1         1   \n",
       "3   35071936             47     2  3550308  355030863        1         1   \n",
       "4   35100031             34     2  3550308  355030863        1         1   \n",
       "\n",
       "   QD_ESP_D  BIBLIO  REG_IN_CR  ...  CLFUNDII_2015  CLFUNDI_2012  CLFUND_2012  \\\n",
       "0         1       0          0  ...           9.00          6.00        22.00   \n",
       "1         1       1          0  ...           6.00          8.00        15.00   \n",
       "2         1       0          0  ...           7.00          8.00        21.00   \n",
       "3         1       0          1  ...          13.00         18.00        31.00   \n",
       "4         1       0          1  ...          13.00         15.00        28.00   \n",
       "\n",
       "   CLFUND_2013  CLFUND_2014  CLFUND_2015  TOTAL_ALUNOS_2012  \\\n",
       "0        18.00        16.00        15.00            1171.00   \n",
       "1        16.00        14.00        14.00             434.00   \n",
       "2        20.00        18.00        17.00            2051.00   \n",
       "3        34.00        34.00        35.00             954.00   \n",
       "4        30.00        29.00        29.00             900.00   \n",
       "\n",
       "   TOTAL_ALUNOS_2013  TOTAL_ALUNOS_2014  TOTAL_ALUNOS_2015  \n",
       "0            1077.00            1061.00            1205.00  \n",
       "1             405.00             442.00             435.00  \n",
       "2            1955.00            1887.00            1667.00  \n",
       "3             916.00             938.00             890.00  \n",
       "4             943.00             993.00             960.00  \n",
       "\n",
       "[5 rows x 150 columns]"
      ]
     },
     "execution_count": 2,
     "metadata": {},
     "output_type": "execute_result"
    }
   ],
   "source": [
    "# Reading the data into a dataframe\n",
    "\n",
    "schools = pd.read_csv('Data/Schools.csv', encoding='utf-8')\n",
    "schools.head()\n"
   ]
  },
  {
   "cell_type": "markdown",
   "metadata": {},
   "source": [
    " As Scikit Learn expects continuous predictors, I will convert\n",
    " the INSE_CL to a set of dummy variables."
   ]
  },
  {
   "cell_type": "code",
   "execution_count": 3,
   "metadata": {},
   "outputs": [],
   "source": [
    "dummies = pd.get_dummies(schools.INSE_CL, prefix='INSE_CL')\n",
    "\n",
    "schools.drop(['CD_ESCOLA', 'INSE_CL'], axis=1, inplace=True)\n",
    "schools = schools.merge(dummies, left_index=True, right_index=True)\n"
   ]
  },
  {
   "cell_type": "code",
   "execution_count": 4,
   "metadata": {},
   "outputs": [],
   "source": [
    "# Splitting the data into training and testing datasets\n",
    "\n",
    "train, test = train_test_split(schools, test_size=0.2)\n",
    "\n",
    "X = train.drop('ENEM', axis=1)\n",
    "y = train.ENEM\n",
    "\n",
    "Xtest = test.drop('ENEM', axis=1)\n",
    "ytest = test.ENEM\n"
   ]
  },
  {
   "cell_type": "markdown",
   "metadata": {},
   "source": [
    " I will test several decision tree options to predict the classifiction\n",
    " of a school in ENEM 2015. All features in the 'sxhools' dataframe\n",
    " will be used as predictors.\n",
    "\n",
    " I will use cross-folding with 5 splits to train and test the model."
   ]
  },
  {
   "cell_type": "markdown",
   "metadata": {},
   "source": [
    "### Single decision tree"
   ]
  },
  {
   "cell_type": "code",
   "execution_count": 5,
   "metadata": {},
   "outputs": [
    {
     "name": "stdout",
     "output_type": "stream",
     "text": [
      "Depth: 1 Accuracy: 0.759\n",
      "Depth: 2 Accuracy: 0.753\n",
      "Depth: 3 Accuracy: 0.762\n",
      "Depth: 4 Accuracy: 0.762\n",
      "Depth: 5 Accuracy: 0.753\n",
      "Depth: 6 Accuracy: 0.762\n",
      "Depth: 7 Accuracy: 0.744\n",
      "Depth: 8 Accuracy: 0.747\n",
      "Depth: 9 Accuracy: 0.724\n"
     ]
    }
   ],
   "source": [
    "crossvalidation = KFold(n_splits=5, \n",
    "                        shuffle=True,\n",
    "                        random_state=1)\n",
    "\n",
    "for depth in range(1,10):\n",
    "    tree_classifier = tree.DecisionTreeClassifier(\n",
    "        max_depth=depth, random_state=0)\n",
    "    if tree_classifier.fit(X,y).tree_.max_depth < depth:\n",
    "        break\n",
    "    score = np.mean(cross_val_score(tree_classifier, \n",
    "                                    X, y, \n",
    "                                    scoring='accuracy', \n",
    "                                    cv=crossvalidation))\n",
    "    print('Depth: %i Accuracy: %.3f' % (depth,score))\n",
    "    "
   ]
  },
  {
   "cell_type": "markdown",
   "metadata": {},
   "source": [
    " To get an effective reduction and simplifiction,\n",
    " I will set the min_samples_split to 30 and avoid terminal leaves\n",
    " that are too small by setting min_samples_leaf to 10."
   ]
  },
  {
   "cell_type": "code",
   "execution_count": 6,
   "metadata": {},
   "outputs": [
    {
     "name": "stdout",
     "output_type": "stream",
     "text": [
      "Accuracy: 0.762\n"
     ]
    }
   ],
   "source": [
    "tree_classifier = tree.DecisionTreeClassifier(\n",
    "    min_samples_split=30, \n",
    "    min_samples_leaf=10, \n",
    "    random_state=0)\n",
    "tree_classifier.fit(X,y)\n",
    "score = np.mean(cross_val_score(tree_classifier, X, y, \n",
    "                                scoring='accuracy', \n",
    "                                cv=crossvalidation))\n",
    "print('Accuracy: %.3f' % score)\n"
   ]
  },
  {
   "cell_type": "markdown",
   "metadata": {},
   "source": [
    " I will predict the values in the test dataset now."
   ]
  },
  {
   "cell_type": "code",
   "execution_count": 7,
   "metadata": {},
   "outputs": [
    {
     "name": "stdout",
     "output_type": "stream",
     "text": [
      "Accuracy on test data: 0.851\n",
      "Confusion matrix:\n",
      "[[ 0  1  0  0]\n",
      " [ 0 67  2  0]\n",
      " [ 0  8  1  1]\n",
      " [ 0  0  1  6]]\n"
     ]
    }
   ],
   "source": [
    "tree_accuracy = tree_classifier.score(Xtest, ytest)\n",
    "\n",
    "print('Accuracy on test data: %.3f' % tree_accuracy)\n",
    "print('Confusion matrix:')\n",
    "print(confusion_matrix(ytest, tree_classifier.predict(Xtest)))\n",
    "    "
   ]
  },
  {
   "cell_type": "markdown",
   "metadata": {},
   "source": [
    "### Bagging\n",
    "\n",
    "I will start the analyisis using an arbitrary parameter configuration."
   ]
  },
  {
   "cell_type": "code",
   "execution_count": 8,
   "metadata": {},
   "outputs": [
    {
     "name": "stdout",
     "output_type": "stream",
     "text": [
      "Accuracy: 0.802\n"
     ]
    }
   ],
   "source": [
    "tree_classifier = DecisionTreeClassifier(random_state=0)\n",
    "bagging = BaggingClassifier(tree_classifier, \n",
    "                            max_samples=0.7, \n",
    "                            max_features=0.7, \n",
    "                            n_estimators=300)\n",
    "scores = np.mean(cross_val_score(bagging, X, y, \n",
    "                                 scoring='accuracy', \n",
    "                                 cv=crossvalidation))\n",
    "print ('Accuracy: %.3f' % scores)\n"
   ]
  },
  {
   "cell_type": "markdown",
   "metadata": {},
   "source": [
    "I will vary the number of models in the tree to identify the\n",
    "the optimum value."
   ]
  },
  {
   "cell_type": "code",
   "execution_count": 9,
   "metadata": {},
   "outputs": [
    {
     "data": {
      "image/png": "[encoded data removed]",
      "text/plain": [
       "<Figure size 360x360 with 1 Axes>"
      ]
     },
     "metadata": {
      "needs_background": "light"
     },
     "output_type": "display_data"
    }
   ],
   "source": [
    "param_range = [10, 50, 100, 200, 300, 500, 800, 1000, 1200, 1500, 1800]\n",
    "train_scores, test_scores = validation_curve(bagging, X, y,\n",
    "                                  'n_estimators', \n",
    "                                  param_range=param_range, \n",
    "                                  cv=crossvalidation, \n",
    "                                  scoring='accuracy')\n",
    "mean_test_scores = np.mean(test_scores, axis=1)\n",
    "\n",
    "g = sns.relplot(x='Models', y='Accuracy',\n",
    "                kind=\"line\",\n",
    "                data=pd.DataFrame({'Models': param_range,\n",
    "                                   'Accuracy': mean_test_scores}))\n",
    "g.fig.autofmt_xdate()\n"
   ]
  },
  {
   "cell_type": "markdown",
   "metadata": {},
   "source": [
    " Next, I will search for a better combination of hyperparameters to\n",
    " try to increase the accuracy of the model."
   ]
  },
  {
   "cell_type": "code",
   "execution_count": 10,
   "metadata": {},
   "outputs": [
    {
     "name": "stdout",
     "output_type": "stream",
     "text": [
      "Best parameters: {'max_features': 0.8, 'max_samples': 0.6, 'n_estimators': 1500}\n",
      "Best accuracy: 0.816\n"
     ]
    }
   ],
   "source": [
    "search_grid = {'n_estimators':[50, 500, 1000, 1500],\n",
    "               'max_samples':[0.6, 0.7, 0.8],\n",
    "               'max_features':[0.6, 0.7, 0.8]}\n",
    "\n",
    "search_func = GridSearchCV(estimator=bagging,\n",
    "                           param_grid=search_grid,\n",
    "                           scoring='accuracy',\n",
    "                           cv=crossvalidation)\n",
    "search_func.fit(X, y)\n",
    "best_params = search_func.best_params_\n",
    "best_score = search_func.best_score_\n",
    "print('Best parameters: %s' % best_params)\n",
    "print('Best accuracy: %.3f' % best_score)\n"
   ]
  },
  {
   "cell_type": "markdown",
   "metadata": {},
   "source": [
    " I will predict the values in the test dataset using the optimum\n",
    " parameters combination."
   ]
  },
  {
   "cell_type": "code",
   "execution_count": 11,
   "metadata": {},
   "outputs": [
    {
     "name": "stdout",
     "output_type": "stream",
     "text": [
      "Accuracy on test data: 0.862\n",
      "Confusion matrix:\n",
      "[[ 0  1  0  0]\n",
      " [ 0 67  2  0]\n",
      " [ 0  8  2  0]\n",
      " [ 0  0  1  6]]\n"
     ]
    }
   ],
   "source": [
    "tree_classifier = DecisionTreeClassifier(random_state=0)\n",
    "bagging = BaggingClassifier(tree_classifier, \n",
    "                            max_samples=best_params['max_samples'], \n",
    "                            max_features=best_params['max_features'], \n",
    "                            n_estimators=best_params['n_estimators'])\n",
    "bagging = bagging.fit(X,y)\n",
    "bagging_accuracy = bagging.score(Xtest, ytest)\n",
    "\n",
    "print('Accuracy on test data: %.3f' % bagging_accuracy)\n",
    "print('Confusion matrix:')\n",
    "print(confusion_matrix(ytest, bagging.predict(Xtest)))\n",
    "    "
   ]
  },
  {
   "cell_type": "markdown",
   "metadata": {},
   "source": [
    "### Random Forest\n",
    "\n",
    "Again, I will start with an arbitrary parameters configuration."
   ]
  },
  {
   "cell_type": "code",
   "execution_count": 12,
   "metadata": {},
   "outputs": [
    {
     "name": "stdout",
     "output_type": "stream",
     "text": [
      "Accuracy: 0.764\n"
     ]
    }
   ],
   "source": [
    "RF_cls = RandomForestClassifier(n_estimators=300,\n",
    "                                random_state=1)\n",
    "score = np.mean(cross_val_score(RF_cls, X, y, \n",
    "                                scoring='accuracy', \n",
    "                                cv=crossvalidation))\n",
    "print('Accuracy: %.3f' % score) \n"
   ]
  },
  {
   "cell_type": "markdown",
   "metadata": {},
   "source": [
    " I will repeat the analysis varying the number of models."
   ]
  },
  {
   "cell_type": "code",
   "execution_count": 13,
   "metadata": {},
   "outputs": [
    {
     "data": {
      "image/png": "[encoded data removed]",
      "text/plain": [
       "<Figure size 360x360 with 1 Axes>"
      ]
     },
     "metadata": {
      "needs_background": "light"
     },
     "output_type": "display_data"
    }
   ],
   "source": [
    "train_scores, test_scores = validation_curve(RF_cls, X, y,\n",
    "                                             'n_estimators',\n",
    "                                             param_range=param_range,\n",
    "                                             cv=crossvalidation, \n",
    "                                             scoring='accuracy')\n",
    "mean_test_scores = np.mean(test_scores, axis=1)\n",
    "\n",
    "g = sns.relplot(x='Models', y='Accuracy',\n",
    "                kind=\"line\",\n",
    "                data=pd.DataFrame({'Models': param_range,\n",
    "                                   'Accuracy': mean_test_scores}))\n",
    "g.fig.autofmt_xdate()\n"
   ]
  },
  {
   "cell_type": "markdown",
   "metadata": {},
   "source": [
    " Next, I will search for a better combination of hyperparameters to\n",
    " try to increase the accuracy of the model."
   ]
  },
  {
   "cell_type": "code",
   "execution_count": 14,
   "metadata": {},
   "outputs": [
    {
     "name": "stdout",
     "output_type": "stream",
     "text": [
      "Best parameters: {'max_features': 50, 'min_samples_leaf': 1, 'n_estimators': 300}\n",
      "Best accuracy: 0.805\n"
     ]
    }
   ],
   "source": [
    "search_grid = {'n_estimators':[50, 100, 300],\n",
    "               'max_features': [X.shape[1]//3, 'sqrt', 'log2', 'auto'], \n",
    "               'min_samples_leaf': [1, 10, 30]}\n",
    "\n",
    "search_func = GridSearchCV(estimator=RF_cls,\n",
    "                           param_grid=search_grid,\n",
    "                           scoring='accuracy',\n",
    "                           cv=crossvalidation)\n",
    "search_func.fit(X, y)\n",
    "best_params = search_func.best_params_\n",
    "best_score = search_func.best_score_\n",
    "print('Best parameters: %s' % best_params)\n",
    "print('Best accuracy: %.3f' % best_score)\n"
   ]
  },
  {
   "cell_type": "markdown",
   "metadata": {},
   "source": [
    " I will use the best combination of parameters to predict\n",
    " the ENEM classification for schools in the test dataset."
   ]
  },
  {
   "cell_type": "code",
   "execution_count": 15,
   "metadata": {},
   "outputs": [
    {
     "name": "stdout",
     "output_type": "stream",
     "text": [
      "Accuracy on test data: 0.816\n",
      "Confusion matrix:\n",
      "[[ 0  1  0  0]\n",
      " [ 0 67  2  0]\n",
      " [ 0  9  1  0]\n",
      " [ 0  0  4  3]]\n"
     ]
    }
   ],
   "source": [
    "RF_cls = RandomForestClassifier(max_features=best_params['max_features'],\n",
    "                                min_samples_leaf=best_params['min_samples_leaf'],\n",
    "                                n_estimators=best_params['n_estimators'],\n",
    "                                random_state=1)\n",
    "RF_cls = RF_cls.fit(X,y)\n",
    "rf_accuracy = RF_cls.score(Xtest, ytest)\n",
    "\n",
    "print('Accuracy on test data: %.3f' % rf_accuracy)\n",
    "print('Confusion matrix:')\n",
    "print(confusion_matrix(ytest, RF_cls.predict(Xtest)))\n",
    "    "
   ]
  },
  {
   "cell_type": "markdown",
   "metadata": {},
   "source": [
    "### Boosting\n",
    " In this last step, I will use two boosting applications, adaboost\n",
    " and gradient boosting machines, to predict a school's classification\n",
    " in ENEM 2015."
   ]
  },
  {
   "cell_type": "markdown",
   "metadata": {},
   "source": [
    "#### Adaboost\n",
    " First, I will train a model with a basic arbitrary parameter\n",
    " configuration."
   ]
  },
  {
   "cell_type": "code",
   "execution_count": 16,
   "metadata": {},
   "outputs": [
    {
     "name": "stdout",
     "output_type": "stream",
     "text": [
      "Accuracy: 0.767\n"
     ]
    }
   ],
   "source": [
    "ada = AdaBoostClassifier(n_estimators=1000, \n",
    "                         learning_rate=0.01, \n",
    "                         base_estimator=DecisionTreeClassifier(max_depth=1),\n",
    "                         random_state=1)\n",
    "crossvalidation = KFold(n_splits=5, shuffle=True, \n",
    "                        random_state=1)\n",
    "score = np.mean(cross_val_score(ada, X, y, \n",
    "                                scoring='accuracy', \n",
    "                                cv=crossvalidation))\n",
    "print('Accuracy: %.3f' % score)\n"
   ]
  },
  {
   "cell_type": "markdown",
   "metadata": {},
   "source": [
    " To try to improve the accuracy of the model, I will\n",
    " explore variations in the number of estimators."
   ]
  },
  {
   "cell_type": "code",
   "execution_count": 17,
   "metadata": {},
   "outputs": [
    {
     "data": {
      "image/png": "[encoded data removed]",
      "text/plain": [
       "<Figure size 360x360 with 1 Axes>"
      ]
     },
     "metadata": {
      "needs_background": "light"
     },
     "output_type": "display_data"
    }
   ],
   "source": [
    "param_range = [100, 500, 1000, 1250, 1500, 2000, 2500]\n",
    "train_scores, test_scores = validation_curve(ada, X, y,\n",
    "                                             'n_estimators',\n",
    "                                             param_range=param_range,\n",
    "                                             cv=crossvalidation, \n",
    "                                             scoring='accuracy')\n",
    "mean_test_scores = np.mean(test_scores, axis=1)\n",
    "\n",
    "g = sns.relplot(x='Models', y='Accuracy',\n",
    "                kind=\"line\",\n",
    "                data=pd.DataFrame({'Models': param_range,\n",
    "                                   'Accuracy': mean_test_scores}))\n",
    "g.fig.autofmt_xdate()\n"
   ]
  },
  {
   "cell_type": "markdown",
   "metadata": {},
   "source": [
    " I will search for a better combination of number of estimators\n",
    " and learning rate to further increase the accuracy of\n",
    " the model."
   ]
  },
  {
   "cell_type": "code",
   "execution_count": 18,
   "metadata": {},
   "outputs": [
    {
     "name": "stderr",
     "output_type": "stream",
     "text": [
      "c:\\python\\python3.7.3\\lib\\site-packages\\sklearn\\model_selection\\_search.py:814: DeprecationWarning: The default of the `iid` parameter will change from True to False in version 0.22 and will be removed in 0.24. This will change numeric results when test-set sizes are unequal.\n",
      "  DeprecationWarning)\n"
     ]
    },
    {
     "name": "stdout",
     "output_type": "stream",
     "text": [
      "Best parameters: {'learning_rate': 0.01, 'n_estimators': 1000}\n",
      "Best accuracy: 0.767\n"
     ]
    }
   ],
   "source": [
    "search_grid = {'n_estimators': [1000, 1500, 1800, 2000, 2500],\n",
    "               'learning_rate': [0.01, 0.02, 0.03]}\n",
    "\n",
    "search_func = GridSearchCV(estimator=ada,\n",
    "                           param_grid=search_grid,\n",
    "                           scoring='accuracy',\n",
    "                           cv=crossvalidation)\n",
    "search_func.fit(X, y)\n",
    "best_params = search_func.best_params_\n",
    "best_score = search_func.best_score_\n",
    "print('Best parameters: %s' % best_params)\n",
    "print('Best accuracy: %.3f' % best_score)\n"
   ]
  },
  {
   "cell_type": "markdown",
   "metadata": {},
   "source": [
    " The best combination of parameters will be used to predict\n",
    " the values of ENEM classification in the test dataset."
   ]
  },
  {
   "cell_type": "code",
   "execution_count": 19,
   "metadata": {},
   "outputs": [
    {
     "name": "stdout",
     "output_type": "stream",
     "text": [
      "Accuracy on test data: 0.828\n",
      "Confusion matrix:\n",
      "[[ 0  1  0  0]\n",
      " [ 0 68  1  0]\n",
      " [ 0  8  2  0]\n",
      " [ 0  1  4  2]]\n"
     ]
    }
   ],
   "source": [
    "ada = AdaBoostClassifier(n_estimators=best_params['n_estimators'], \n",
    "                         learning_rate=best_params['learning_rate'], \n",
    "                         base_estimator=DecisionTreeClassifier(max_depth=1),\n",
    "                         random_state=1)\n",
    "ada = ada.fit(X,y)\n",
    "ada_accuracy = ada.score(Xtest, ytest)\n",
    "\n",
    "print('Accuracy on test data: %.3f' % ada_accuracy)\n",
    "print('Confusion matrix:')\n",
    "print(confusion_matrix(ytest, ada.predict(Xtest)))\n"
   ]
  },
  {
   "cell_type": "markdown",
   "metadata": {},
   "source": [
    "#### Gradient Boosting Classifier\n",
    " Next, I will fit a gradient boosting classifier with an initial\n",
    " parameter setting."
   ]
  },
  {
   "cell_type": "code",
   "execution_count": 20,
   "metadata": {},
   "outputs": [
    {
     "name": "stdout",
     "output_type": "stream",
     "text": [
      "Accuracy: 0.793\n"
     ]
    }
   ],
   "source": [
    "crossvalidation = KFold(n_splits=5, \n",
    "                        shuffle=True, \n",
    "                        random_state=1)\n",
    "\n",
    "GBC = GradientBoostingClassifier(n_estimators=300, \n",
    "                                 subsample=1.0, \n",
    "                                 max_depth=3, \n",
    "                                 learning_rate=0.1, \n",
    "                                 random_state=1)\n",
    "score = np.mean(cross_val_score(GBC, X, y, \n",
    "                                scoring='accuracy', \n",
    "                                cv=crossvalidation))\n",
    "print('Accuracy: %.3f' % score)\n"
   ]
  },
  {
   "cell_type": "markdown",
   "metadata": {},
   "source": [
    " I will explore combinations of the parameters of the model to\n",
    " try to improve its accuracy."
   ]
  },
  {
   "cell_type": "code",
   "execution_count": 21,
   "metadata": {},
   "outputs": [
    {
     "name": "stdout",
     "output_type": "stream",
     "text": [
      "Best parameters: {'learning_rate': 0.1, 'max_depth': 5, 'n_estimators': 250, 'subsample': 0.9}\n",
      "Best mean squared error: 0.802\n"
     ]
    }
   ],
   "source": [
    "search_grid =  {'subsample': [1.0, 0.9], \n",
    "                'max_depth': [2, 3, 5], \n",
    "                'n_estimators': [250, 500 , 1000, 1500],\n",
    "                'learning_rate': [0.1, 0.2, 0.3],}\n",
    "search_func = GridSearchCV(estimator=GBC,\n",
    "                           param_grid=search_grid,\n",
    "                           scoring='accuracy',\n",
    "                           cv=crossvalidation)\n",
    "search_func.fit(X,y)\n",
    "\n",
    "best_params = search_func.best_params_\n",
    "best_score = abs(search_func.best_score_)\n",
    "print('Best parameters: %s' % best_params)\n",
    "print('Best mean squared error: %.3f' % best_score)\n"
   ]
  },
  {
   "cell_type": "markdown",
   "metadata": {},
   "source": [
    " The best combination of parameters will be used to predict the\n",
    " classification in ENEM for the schools in the test dataset."
   ]
  },
  {
   "cell_type": "code",
   "execution_count": 22,
   "metadata": {},
   "outputs": [
    {
     "name": "stdout",
     "output_type": "stream",
     "text": [
      "Accuracy on test data: 0.851\n",
      "Confusion matrix:\n",
      "[[ 0  1  0  0]\n",
      " [ 1 66  2  0]\n",
      " [ 0  8  2  0]\n",
      " [ 0  0  1  6]]\n"
     ]
    }
   ],
   "source": [
    "GBC = GradientBoostingClassifier(n_estimators=best_params['n_estimators'], \n",
    "                                 subsample=best_params['subsample'], \n",
    "                                 max_depth=best_params['max_depth'], \n",
    "                                 learning_rate=best_params['learning_rate'], \n",
    "                                 random_state=1)\n",
    "GBC = GBC.fit(X,y)\n",
    "gb_accuracy = GBC.score(Xtest, ytest)\n",
    "\n",
    "print('Accuracy on test data: %.3f' % gb_accuracy)\n",
    "print('Confusion matrix:')\n",
    "print(confusion_matrix(ytest, GBC.predict(Xtest)))\n"
   ]
  },
  {
   "cell_type": "markdown",
   "metadata": {},
   "source": [
    "## Conclusion\n",
    " Here are the accuracy for each of the models previously fitted to\n",
    " the test data:"
   ]
  },
  {
   "cell_type": "code",
   "execution_count": 23,
   "metadata": {},
   "outputs": [
    {
     "name": "stdout",
     "output_type": "stream",
     "text": [
      "Decision tree:     0.851\n",
      "Bagging:           0.862\n",
      "Random forest:     0.816\n",
      "Adaboost:          0.828\n",
      "Gradient boosting: 0.851\n"
     ]
    }
   ],
   "source": [
    "print('Decision tree:     %.3f' % tree_accuracy)\n",
    "print('Bagging:           %.3f' % bagging_accuracy)\n",
    "print('Random forest:     %.3f' % rf_accuracy)\n",
    "print('Adaboost:          %.3f' % ada_accuracy)\n",
    "print('Gradient boosting: %.3f' % gb_accuracy)"
   ]
  },
  {
   "cell_type": "markdown",
   "metadata": {},
   "source": [
    "The bagging model had the highest accuracy, followed closely by the decision tree and GBC models."
   ]
  },
  {
   "cell_type": "code",
   "execution_count": null,
   "metadata": {},
   "outputs": [],
   "source": []
  }
 ],
 "metadata": {
  "file_extension": ".py",
  "kernelspec": {
   "display_name": "Python 3",
   "language": "python",
   "name": "python3"
  },
  "language_info": {
   "codemirror_mode": {
    "name": "ipython",
    "version": 3
   },
   "file_extension": ".py",
   "mimetype": "text/x-python",
   "name": "python",
   "nbconvert_exporter": "python",
   "pygments_lexer": "ipython3",
   "version": "3.7.3"
  },
  "mimetype": "text/x-python",
  "name": "python",
  "npconvert_exporter": "python",
  "pygments_lexer": "ipython3",
  "version": 3
 },
 "nbformat": 4,
 "nbformat_minor": 1
}
